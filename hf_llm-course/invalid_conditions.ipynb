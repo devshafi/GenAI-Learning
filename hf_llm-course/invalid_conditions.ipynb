{
 "cells": [
  {
   "cell_type": "markdown",
   "id": "db06e13d",
   "metadata": {},
   "source": [
    "### Download the data"
   ]
  },
  {
   "cell_type": "code",
   "execution_count": 23,
   "id": "47d1dd82",
   "metadata": {},
   "outputs": [],
   "source": [
    "data_dir = \"/home/jovyan/Works/Practice/dataset/drugscom\""
   ]
  },
  {
   "cell_type": "code",
   "execution_count": null,
   "id": "ad0bc7ac",
   "metadata": {},
   "outputs": [
    {
     "name": "stdout",
     "output_type": "stream",
     "text": [
      "--2025-05-08 22:40:52--  https://archive.ics.uci.edu/ml/machine-learning-databases/00462/drugsCom_raw.zip\n",
      "Resolving archive.ics.uci.edu (archive.ics.uci.edu)... 128.195.10.252\n",
      "Connecting to archive.ics.uci.edu (archive.ics.uci.edu)|128.195.10.252|:443... connected.\n",
      "HTTP request sent, awaiting response... 200 OK\n",
      "Length: unspecified\n",
      "Saving to: ‘/home/jovyan/Works/Practice/dataset/drugscom/drugsCom_raw.zip’\n",
      "\n",
      "drugsCom_raw.zip        [         <=>        ]  41.00M  22.1MB/s    in 1.9s    \n",
      "\n",
      "2025-05-08 22:40:58 (22.1 MB/s) - ‘/home/jovyan/Works/Practice/dataset/drugscom/drugsCom_raw.zip’ saved [42989872]\n",
      "\n"
     ]
    }
   ],
   "source": [
    "\n",
    "!wget -P $data_dir \"https://archive.ics.uci.edu/ml/machine-learning-databases/00462/drugsCom_raw.zip\""
   ]
  },
  {
   "cell_type": "code",
   "execution_count": 2,
   "id": "b0d089e8",
   "metadata": {},
   "outputs": [
    {
     "name": "stdout",
     "output_type": "stream",
     "text": [
      "Archive:  /home/jovyan/Works/Practice/dataset/drugscom/drugsCom_raw.zip\n",
      "  inflating: /home/jovyan/Works/Practice/dataset/drugscom/drugsComTest_raw.tsv  \n",
      "  inflating: /home/jovyan/Works/Practice/dataset/drugscom/drugsComTrain_raw.tsv  \n"
     ]
    }
   ],
   "source": [
    "!unzip \"$data_dir/drugsCom_raw.zip\" -d \"$data_dir\"\n"
   ]
  },
  {
   "cell_type": "code",
   "execution_count": 24,
   "id": "9521ac6d",
   "metadata": {},
   "outputs": [
    {
     "data": {
      "text/plain": [
       "DatasetDict({\n",
       "    train: Dataset({\n",
       "        features: ['Unnamed: 0', 'drugName', 'condition', 'review', 'rating', 'date', 'usefulCount'],\n",
       "        num_rows: 161297\n",
       "    })\n",
       "    test: Dataset({\n",
       "        features: ['Unnamed: 0', 'drugName', 'condition', 'review', 'rating', 'date', 'usefulCount'],\n",
       "        num_rows: 53766\n",
       "    })\n",
       "})"
      ]
     },
     "execution_count": 24,
     "metadata": {},
     "output_type": "execute_result"
    }
   ],
   "source": [
    "# Load the data from saved directory\n",
    "\n",
    "from datasets import load_dataset\n",
    "\n",
    "data_files = {\n",
    "    \"train\":  f\"{data_dir}/drugsComTrain_raw.tsv\",\n",
    "    \"test\":f\"{data_dir}/drugsComTest_raw.tsv\"\n",
    "}\n",
    "\n",
    "drug_dataset = load_dataset(\"csv\",data_files=data_files, delimiter=\"\\t\")\n",
    "drug_dataset"
   ]
  },
  {
   "cell_type": "code",
   "execution_count": 25,
   "id": "04cc17c6",
   "metadata": {},
   "outputs": [],
   "source": [
    "def remove_none(example):\n",
    "    return example[\"condition\"] is not None"
   ]
  },
  {
   "cell_type": "code",
   "execution_count": 26,
   "id": "4821ca31",
   "metadata": {},
   "outputs": [],
   "source": [
    "drug_dataset = drug_dataset.filter(remove_none)"
   ]
  },
  {
   "cell_type": "code",
   "execution_count": 5,
   "id": "f7f914ab",
   "metadata": {},
   "outputs": [
    {
     "data": {
      "text/plain": [
       "{'Unnamed: 0': 206461,\n",
       " 'drugName': 'Valsartan',\n",
       " 'condition': 'Left Ventricular Dysfunction',\n",
       " 'review': '\"It has no side effect, I take it in combination of Bystolic 5 Mg and Fish Oil\"',\n",
       " 'rating': 9.0,\n",
       " 'date': 'May 20, 2012',\n",
       " 'usefulCount': 27}"
      ]
     },
     "execution_count": 5,
     "metadata": {},
     "output_type": "execute_result"
    }
   ],
   "source": [
    "drug_dataset[\"train\"][0]"
   ]
  },
  {
   "cell_type": "code",
   "execution_count": 7,
   "id": "6232da21",
   "metadata": {},
   "outputs": [
    {
     "data": {
      "text/plain": [
       "{'Unnamed: 0': 81035,\n",
       " 'drugName': 'Hypercare',\n",
       " 'condition': '0</span> users found this comment helpful.',\n",
       " 'review': '\"I am a 9-12 teacher.  I have suffered from profuse underarm sweating for over ten years and have tried EVERYTHING! Then, last week I was at the doctors and I decided to mention my sweating problem. He prescribed Hypercare and told me that it works. He is right. First day at school without sweating. It is amazing!\"',\n",
       " 'rating': 10.0,\n",
       " 'date': 'May 2, 2012',\n",
       " 'usefulCount': 0}"
      ]
     },
     "execution_count": 7,
     "metadata": {},
     "output_type": "execute_result"
    }
   ],
   "source": [
    "def is_invalid_condition(example):\n",
    "    return \"users found this comment helpful\" in example[\"condition\"]\n",
    "\n",
    "# Filter and return only invalid rows\n",
    "invalid_rows = drug_dataset[\"train\"].filter(is_invalid_condition)\n",
    "\n",
    "# Display the first few invalid rows\n",
    "invalid_rows[100]\n"
   ]
  },
  {
   "cell_type": "code",
   "execution_count": 30,
   "id": "0eb7a8ac",
   "metadata": {},
   "outputs": [],
   "source": [
    "# detecting unusual conditions\n",
    "def is_very_long_condition(example):\n",
    "    return len(example[\"condition\"].split()) >5"
   ]
  },
  {
   "cell_type": "code",
   "execution_count": 31,
   "id": "5f8c80b4",
   "metadata": {},
   "outputs": [
    {
     "name": "stderr",
     "output_type": "stream",
     "text": [
      "Filter: 100%|██████████| 160398/160398 [00:02<00:00, 63282.66 examples/s]\n",
      "Filter: 100%|██████████| 53471/53471 [00:00<00:00, 70370.71 examples/s]\n"
     ]
    },
    {
     "data": {
      "text/plain": [
       "DatasetDict({\n",
       "    train: Dataset({\n",
       "        features: ['Unnamed: 0', 'drugName', 'condition', 'review', 'rating', 'date', 'usefulCount'],\n",
       "        num_rows: 1098\n",
       "    })\n",
       "    test: Dataset({\n",
       "        features: ['Unnamed: 0', 'drugName', 'condition', 'review', 'rating', 'date', 'usefulCount'],\n",
       "        num_rows: 333\n",
       "    })\n",
       "})"
      ]
     },
     "execution_count": 31,
     "metadata": {},
     "output_type": "execute_result"
    }
   ],
   "source": [
    "long_reviews_data = drug_dataset.filter(is_very_long_condition)\n",
    "long_reviews_data\n"
   ]
  },
  {
   "cell_type": "code",
   "execution_count": 35,
   "id": "7f5feec4",
   "metadata": {},
   "outputs": [
    {
     "name": "stderr",
     "output_type": "stream",
     "text": [
      "Flattening the indices: 100%|██████████| 1098/1098 [00:00<00:00, 48649.90 examples/s]\n"
     ]
    },
    {
     "data": {
      "text/plain": [
       "['2</span> users found this comment helpful.',\n",
       " 'Osteolytic Bone Metastases of Solid Tumors',\n",
       " '4</span> users found this comment helpful.',\n",
       " '3</span> users found this comment helpful.',\n",
       " '11</span> users found this comment helpful.',\n",
       " '0</span> users found this comment helpful.',\n",
       " '1</span> users found this comment helpful.',\n",
       " '142</span> users found this comment helpful.',\n",
       " '8</span> users found this comment helpful.',\n",
       " '13</span> users found this comment helpful.',\n",
       " '6</span> users found this comment helpful.',\n",
       " 'Prevention of Thromboembolism in Atrial Fibrillation',\n",
       " '94</span> users found this comment helpful.',\n",
       " '28</span> users found this comment helpful.',\n",
       " '16</span> users found this comment helpful.',\n",
       " '27</span> users found this comment helpful.',\n",
       " '75</span> users found this comment helpful.',\n",
       " '15</span> users found this comment helpful.',\n",
       " '12</span> users found this comment helpful.',\n",
       " '9</span> users found this comment helpful.',\n",
       " '7</span> users found this comment helpful.',\n",
       " '35</span> users found this comment helpful.',\n",
       " '54</span> users found this comment helpful.',\n",
       " '17</span> users found this comment helpful.',\n",
       " 'Prosthetic Heart Valves, Mechanical Valves - Thrombosis Prophylaxis',\n",
       " 'Prosthetic Heart Valves, Tissue Valves - Thrombosis Prophylaxis',\n",
       " '79</span> users found this comment helpful.',\n",
       " '10</span> users found this comment helpful.',\n",
       " 'Anemia Associated with Chronic Renal Failure',\n",
       " '14</span> users found this comment helpful.',\n",
       " '5</span> users found this comment helpful.',\n",
       " '19</span> users found this comment helpful.',\n",
       " '41</span> users found this comment helpful.',\n",
       " 'Osteolytic Bone Lesions of Multiple Myeloma',\n",
       " '23</span> users found this comment helpful.',\n",
       " 'Deep Vein Thrombosis Prophylaxis after Hip Replacement Surgery',\n",
       " 'Deep Vein Thrombosis Prophylaxis after Knee Replacement Surgery',\n",
       " '64</span> users found this comment helpful.',\n",
       " '18</span> users found this comment helpful.',\n",
       " '146</span> users found this comment helpful.',\n",
       " '44</span> users found this comment helpful.',\n",
       " '20</span> users found this comment helpful.',\n",
       " '21</span> users found this comment helpful.',\n",
       " '110</span> users found this comment helpful.',\n",
       " '85</span> users found this comment helpful.',\n",
       " '46</span> users found this comment helpful.',\n",
       " 'ge HCT (amlodipine / hydrochlorothiazide / valsartan)',\n",
       " '31</span> users found this comment helpful.',\n",
       " '25</span> users found this comment helpful.',\n",
       " '32</span> users found this comment helpful.',\n",
       " '48</span> users found this comment helpful.',\n",
       " '33</span> users found this comment helpful.',\n",
       " '22</span> users found this comment helpful.',\n",
       " '29</span> users found this comment helpful.',\n",
       " '30</span> users found this comment helpful.',\n",
       " '63</span> users found this comment helpful.',\n",
       " '45</span> users found this comment helpful.',\n",
       " '34</span> users found this comment helpful.',\n",
       " '55</span> users found this comment helpful.',\n",
       " '39</span> users found this comment helpful.',\n",
       " '98</span> users found this comment helpful.',\n",
       " '24</span> users found this comment helpful.',\n",
       " '84</span> users found this comment helpful.',\n",
       " 'Hyperlipoproteinemia Type III, Elevated beta-VLDL   IDL',\n",
       " '36</span> users found this comment helpful.',\n",
       " '40</span> users found this comment helpful.',\n",
       " '43</span> users found this comment helpful.',\n",
       " '72</span> users found this comment helpful.',\n",
       " '26</span> users found this comment helpful.',\n",
       " '42</span> users found this comment helpful.',\n",
       " '99</span> users found this comment helpful.',\n",
       " '123</span> users found this comment helpful.',\n",
       " 'Prevention of Perinatal Group B Streptococcal Disease',\n",
       " '74</span> users found this comment helpful.',\n",
       " '47</span> users found this comment helpful.',\n",
       " '76</span> users found this comment helpful.',\n",
       " '77</span> users found this comment helpful.',\n",
       " '121</span> users found this comment helpful.',\n",
       " '95</span> users found this comment helpful.',\n",
       " '61</span> users found this comment helpful.',\n",
       " '51</span> users found this comment helpful.',\n",
       " '145</span> users found this comment helpful.',\n",
       " '62</span> users found this comment helpful.',\n",
       " '92</span> users found this comment helpful.']"
      ]
     },
     "execution_count": 35,
     "metadata": {},
     "output_type": "execute_result"
    }
   ],
   "source": [
    "long_reviews_data[\"train\"].unique(\"condition\")"
   ]
  }
 ],
 "metadata": {
  "kernelspec": {
   "display_name": ".venv",
   "language": "python",
   "name": "python3"
  },
  "language_info": {
   "codemirror_mode": {
    "name": "ipython",
    "version": 3
   },
   "file_extension": ".py",
   "mimetype": "text/x-python",
   "name": "python",
   "nbconvert_exporter": "python",
   "pygments_lexer": "ipython3",
   "version": "3.12.3"
  }
 },
 "nbformat": 4,
 "nbformat_minor": 5
}
